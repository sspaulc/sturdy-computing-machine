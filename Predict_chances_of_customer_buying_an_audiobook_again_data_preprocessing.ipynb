{
  "nbformat": 4,
  "nbformat_minor": 0,
  "metadata": {
    "colab": {
      "name": "Predict chances of customer buying an audiobook again data preprocessing.ipynb",
      "provenance": [],
      "mount_file_id": "1OmcdMBVx91zixm2NKgzZ-ygkeWyLrNQk",
      "authorship_tag": "ABX9TyOn4/WehXEriq3ft2vTrbCF",
      "include_colab_link": true
    },
    "kernelspec": {
      "name": "python3",
      "display_name": "Python 3"
    }
  },
  "cells": [
    {
      "cell_type": "markdown",
      "metadata": {
        "id": "view-in-github",
        "colab_type": "text"
      },
      "source": [
        "<a href=\"https://colab.research.google.com/github/sspaulc/sturdy-computing-machine/blob/main/Predict_chances_of_customer_buying_an_audiobook_again_data_preprocessing.ipynb\" target=\"_parent\"><img src=\"https://colab.research.google.com/assets/colab-badge.svg\" alt=\"Open In Colab\"/></a>"
      ]
    },
    {
      "cell_type": "code",
      "metadata": {
        "id": "yaaRzQGv7HhZ"
      },
      "source": [
        "#Extract Dataset\r\n",
        "import numpy as np\r\n",
        "import pandas as pd\r\n",
        "from sklearn import preprocessing\r\n",
        "\r\n",
        "raw_data=np.loadtxt('/Audiobooks_data.csv',delimiter=',')\r\n"
      ],
      "execution_count": 3,
      "outputs": []
    },
    {
      "cell_type": "code",
      "metadata": {
        "id": "AROM8PlPDa8v"
      },
      "source": [
        "unscaled_inputs_all=raw_data[:,1:-1]\r\n",
        "targets_all= raw_data[:,-1]\r\n"
      ],
      "execution_count": 4,
      "outputs": []
    },
    {
      "cell_type": "code",
      "metadata": {
        "id": "xu32UCKfD4Dk"
      },
      "source": [
        "#Balancing the dataset: Count no of 1 and keep as many '0' as '1'\r\n",
        "num_one_targets=int(np.sum(targets_all))\r\n",
        "zero_targets_counter= 0\r\n",
        "indices_to_remove = []\r\n",
        "\r\n",
        "for i in range (targets_all.shape[0]):\r\n",
        "  if targets_all[i]==0:\r\n",
        "    zero_targets_counter=zero_targets_counter +1\r\n",
        "    if zero_targets_counter>num_one_targets:\r\n",
        "      indices_to_remove.append(i)\r\n"
      ],
      "execution_count": 5,
      "outputs": []
    },
    {
      "cell_type": "code",
      "metadata": {
        "id": "74knpP5lFFdh"
      },
      "source": [
        "unscaled_inputs_equal_priors=np.delete( unscaled_inputs_all, indices_to_remove,axis=0)\r\n",
        "target_equal_priors=np.delete(targets_all,indices_to_remove,axis=0)\r\n"
      ],
      "execution_count": 6,
      "outputs": []
    },
    {
      "cell_type": "code",
      "metadata": {
        "id": "i9T2YSwAFv0q"
      },
      "source": [
        "#Standardize inputs to increase prediction values by 10%\r\n",
        "scaled_inputs= preprocessing.scale(unscaled_inputs_equal_priors)"
      ],
      "execution_count": 7,
      "outputs": []
    },
    {
      "cell_type": "code",
      "metadata": {
        "id": "fgxXml96F-_j"
      },
      "source": [
        "#Shuffle the data for batching for random spread \r\n",
        "shuffled_indices=np.arange(scaled_inputs.shape[0]) #returns evenly spaced values within given interval\r\n",
        "np.random.shuffle(shuffled_indices)\r\n",
        "\r\n",
        "shuffled_inputs= scaled_inputs[shuffled_indices]\r\n",
        "shuffled_targets=target_equal_priors[shuffled_indices]"
      ],
      "execution_count": 8,
      "outputs": []
    },
    {
      "cell_type": "code",
      "metadata": {
        "id": "7UsYx2zDHPDm"
      },
      "source": [
        "#Split data in train,validation and test\r\n",
        "samples_count= shuffled_inputs.shape[0]\r\n",
        "\r\n",
        "train_samples_count= int(0.8*samples_count)\r\n",
        "validation_samples_count= int(0.1*samples_count)\r\n",
        "test_samples_count= samples_count - train_samples_count- validation_samples_count\r\n",
        "train_inputs= shuffled_inputs [:train_samples_count]\r\n",
        "train_targets= shuffled_targets [:train_samples_count]\r\n",
        "\r\n",
        "\r\n",
        "validation_inputs =shuffled_inputs [train_samples_count:validation_samples_count+train_samples_count]\r\n",
        "validation_targets = shuffled_targets [train_samples_count:validation_samples_count+train_samples_count]\r\n",
        "\r\n",
        "test_inputs = shuffled_inputs [train_samples_count+validation_samples_count:]\r\n",
        "test_targets= shuffled_inputs [train_samples_count+validation_samples_count:]"
      ],
      "execution_count": 9,
      "outputs": []
    },
    {
      "cell_type": "code",
      "metadata": {
        "id": "IQQpToBbJwGk"
      },
      "source": [
        "#Save three datasets in npz\r\n",
        "np.savez('Audiobooks_data_train',inputs=train_inputs,targets= train_targets)\r\n",
        "np.savez('Audiobook_data_validattion',inputs=validation_inputs, targets= validation_targets)\r\n",
        "np.savez('Audiobook_data_test',inputs=test_inputs,targets=test_targets)\r\n"
      ],
      "execution_count": 10,
      "outputs": []
    },
    {
      "cell_type": "code",
      "metadata": {
        "id": "myqy10iCKaWK"
      },
      "source": [
        ""
      ],
      "execution_count": null,
      "outputs": []
    }
  ]
}