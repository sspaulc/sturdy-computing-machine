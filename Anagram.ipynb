{
  "nbformat": 4,
  "nbformat_minor": 0,
  "metadata": {
    "colab": {
      "name": "Anagram.ipynb",
      "provenance": [],
      "authorship_tag": "ABX9TyM3bILE6r9xC2C/2NFPCSqx",
      "include_colab_link": true
    },
    "kernelspec": {
      "name": "python3",
      "display_name": "Python 3"
    }
  },
  "cells": [
    {
      "cell_type": "markdown",
      "metadata": {
        "id": "view-in-github",
        "colab_type": "text"
      },
      "source": [
        "<a href=\"https://colab.research.google.com/github/sspaulc/sturdy-computing-machine/blob/main/Anagram.ipynb\" target=\"_parent\"><img src=\"https://colab.research.google.com/assets/colab-badge.svg\" alt=\"Open In Colab\"/></a>"
      ]
    },
    {
      "cell_type": "code",
      "metadata": {
        "id": "ZI7259Zpyl0X"
      },
      "source": [
        "def Anagram(string1,string2):\r\n",
        "  '''This function finds if a string is an anagram of the other and if not,it counts the number of characters needed to delete  to make it an anagram'''\r\n",
        "  list1=[]\r\n",
        "  count=0\r\n",
        "  for i in string1:\r\n",
        "    list1.append(i)\r\n",
        "  list2=[]\r\n",
        "  for j in string2:\r\n",
        "    list2.append(j)\r\n",
        "  list1.sort()\r\n",
        "  list2.sort()\r\n",
        "  lengths=[len(string1),len(string2)]\r\n",
        "  try:\r\n",
        "    for i in range(max(lengths)):\r\n",
        "      if list1[i]!=list2[i]:\r\n",
        "        count=count+2\r\n",
        "  except IndexError:\r\n",
        "    count=count + (max(lengths)-min(lengths))\r\n",
        "  return count\r\n",
        "\r\n",
        "\r\n"
      ],
      "execution_count": 28,
      "outputs": []
    },
    {
      "cell_type": "code",
      "metadata": {
        "colab": {
          "base_uri": "https://localhost:8080/"
        },
        "id": "1zmxKXBLzfZb",
        "outputId": "f309c5e8-dea8-4572-bd45-b6dd5874b018"
      },
      "source": [
        "Anagram('bade','abdf')"
      ],
      "execution_count": 29,
      "outputs": [
        {
          "output_type": "execute_result",
          "data": {
            "text/plain": [
              "2"
            ]
          },
          "metadata": {
            "tags": []
          },
          "execution_count": 29
        }
      ]
    },
    {
      "cell_type": "code",
      "metadata": {
        "colab": {
          "base_uri": "https://localhost:8080/"
        },
        "id": "D5z0dh5w1J3M",
        "outputId": "a93819b9-a22f-4e56-ffe6-a546f8c089d0"
      },
      "source": [
        "Anagram('abcdddee','abcdd')"
      ],
      "execution_count": 30,
      "outputs": [
        {
          "output_type": "execute_result",
          "data": {
            "text/plain": [
              "3"
            ]
          },
          "metadata": {
            "tags": []
          },
          "execution_count": 30
        }
      ]
    },
    {
      "cell_type": "code",
      "metadata": {
        "colab": {
          "base_uri": "https://localhost:8080/"
        },
        "id": "XG_xUHoV2BUa",
        "outputId": "b9a01a30-f601-4b36-af1a-e0e8c3cca8b1"
      },
      "source": [
        "Anagram('abcdef','abcdefgh')"
      ],
      "execution_count": 31,
      "outputs": [
        {
          "output_type": "execute_result",
          "data": {
            "text/plain": [
              "2"
            ]
          },
          "metadata": {
            "tags": []
          },
          "execution_count": 31
        }
      ]
    },
    {
      "cell_type": "code",
      "metadata": {
        "id": "1I7rDEWt2MHx"
      },
      "source": [
        ""
      ],
      "execution_count": null,
      "outputs": []
    }
  ]
}