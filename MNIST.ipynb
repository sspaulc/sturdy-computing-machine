{
  "nbformat": 4,
  "nbformat_minor": 0,
  "metadata": {
    "colab": {
      "name": "MNIST.ipynb",
      "provenance": [],
      "authorship_tag": "ABX9TyMdh24w57jhTeujyRXp3R7b",
      "include_colab_link": true
    },
    "kernelspec": {
      "name": "python3",
      "display_name": "Python 3"
    }
  },
  "cells": [
    {
      "cell_type": "markdown",
      "metadata": {
        "id": "view-in-github",
        "colab_type": "text"
      },
      "source": [
        "<a href=\"https://colab.research.google.com/github/sspaulc/sturdy-computing-machine/blob/main/MNIST.ipynb\" target=\"_parent\"><img src=\"https://colab.research.google.com/assets/colab-badge.svg\" alt=\"Open In Colab\"/></a>"
      ]
    },
    {
      "cell_type": "markdown",
      "metadata": {
        "id": "GhfxLx7FM9vn"
      },
      "source": [
        "import packages"
      ]
    },
    {
      "cell_type": "code",
      "metadata": {
        "id": "eGJCtA1CMdnB"
      },
      "source": [
        "import numpy as np\n",
        "import tensorflow as tf\n",
        "import tensorflow_datasets as tfds"
      ],
      "execution_count": 42,
      "outputs": []
    },
    {
      "cell_type": "code",
      "metadata": {
        "id": "If1zXjs1OHcj"
      },
      "source": [
        "import tensorflow as tf"
      ],
      "execution_count": 43,
      "outputs": []
    },
    {
      "cell_type": "code",
      "metadata": {
        "id": "J6EO1_5kOMle"
      },
      "source": [
        "import numpy as np\n",
        "import tensorflow_datasets as tfdf"
      ],
      "execution_count": 44,
      "outputs": []
    },
    {
      "cell_type": "code",
      "metadata": {
        "id": "7yiJMAcaOaW3"
      },
      "source": [
        "mnist_dataset,mnist_info=tfdf.load(name= \"mnist\",with_info=True,as_supervised=True)"
      ],
      "execution_count": 45,
      "outputs": []
    },
    {
      "cell_type": "markdown",
      "metadata": {
        "id": "oKYnx9LePRob"
      },
      "source": [
        "Data Preprocessing"
      ]
    },
    {
      "cell_type": "code",
      "metadata": {
        "id": "IJKyMIfzPhPy"
      },
      "source": [
        "mnist_train,mnist_test=mnist_dataset['train'],mnist_dataset['test']"
      ],
      "execution_count": 46,
      "outputs": []
    },
    {
      "cell_type": "code",
      "metadata": {
        "id": "l3joGLrbP3vK"
      },
      "source": [
        "num_validation_samples=0.1*mnist_info.splits['train'].num_examples"
      ],
      "execution_count": 47,
      "outputs": []
    },
    {
      "cell_type": "code",
      "metadata": {
        "id": "3oniK7ERQdQR"
      },
      "source": [
        "num_validation_samples=tf.cast(num_validation_samples,tf.int64)"
      ],
      "execution_count": 48,
      "outputs": []
    },
    {
      "cell_type": "code",
      "metadata": {
        "id": "nsH07LeOQsbG"
      },
      "source": [
        "num_test_samples=mnist_info.splits['test'].num_examples\n",
        "num_test_samples= tf.cast(num_test_samples,tf.int64)"
      ],
      "execution_count": 49,
      "outputs": []
    },
    {
      "cell_type": "code",
      "metadata": {
        "id": "vY_ha_MARWHo"
      },
      "source": [
        "def scale(image,label):\n",
        "  image=tf.cast(image,tf.float32)\n",
        "  image/= 255.\n",
        "  return image,label"
      ],
      "execution_count": 51,
      "outputs": []
    },
    {
      "cell_type": "code",
      "metadata": {
        "id": "2ryqPA1aSE-J"
      },
      "source": [
        "scale_train_and_validation=mnist_train.map(scale)\n"
      ],
      "execution_count": 52,
      "outputs": []
    },
    {
      "cell_type": "code",
      "metadata": {
        "id": "evg7ANrkX_2r"
      },
      "source": [
        "test_data=mnist_test.map(scale)"
      ],
      "execution_count": 53,
      "outputs": []
    },
    {
      "cell_type": "code",
      "metadata": {
        "id": "7tQHRTDdSYZz"
      },
      "source": [
        "#Shuffle and Batch"
      ],
      "execution_count": 54,
      "outputs": []
    },
    {
      "cell_type": "code",
      "metadata": {
        "id": "kZ0jzZwMS1ki"
      },
      "source": [
        "BUFFER_SIZE=10000 #TAKE 10000 at a time,shuffle them and then take next 10000\n",
        "shuffled_train_and_validation=scale_train_and_validation.shuffle(BUFFER_SIZE)\n",
        "validation_data=shuffled_train_and_validation.take(num_validation_samples)\n",
        "train_data=shuffled_train_and_validation.skip(num_validation_samples)\n",
        "\n",
        "\n",
        "BATCH_SIZE=150\n",
        "train_data=train_data.batch(BATCH_SIZE)\n",
        "validation_data=validation_data.batch(num_validation_samples)\n",
        "test_data=test_data.batch(num_test_samples)\n",
        "validation_inputs,validation_targets= next(iter(validation_data))\n"
      ],
      "execution_count": 55,
      "outputs": []
    },
    {
      "cell_type": "markdown",
      "metadata": {
        "id": "9Ww6__BTUmf7"
      },
      "source": [
        "Outline the model"
      ]
    },
    {
      "cell_type": "code",
      "metadata": {
        "id": "jQRaQ_mEZNOh"
      },
      "source": [
        "input_size=784\n",
        "output_size=10\n",
        "hidden_layer_size=570\n",
        "model=tf.keras.Sequential([\n",
        "          tf.keras.layers.Flatten( input_shape=(28,28,1)),      \n",
        "          tf.keras.layers.Dense(hidden_layer_size,activation='relu') ,\n",
        "          tf.keras.layers.Dense(hidden_layer_size,activation='relu') ,\n",
        "          tf.keras.layers.Dense(hidden_layer_size,activation='relu') ,\n",
        "          tf.keras.layers.Dense(hidden_layer_size,activation='relu') ,\n",
        "          tf.keras.layers.Dense(hidden_layer_size,activation='relu') ,\n",
        "          tf.keras.layers.Dense(hidden_layer_size,activation='relu') ,\n",
        "          tf.keras.layers.Dense(hidden_layer_size,activation='relu') ,\n",
        "          tf.keras.layers.Dense(hidden_layer_size,activation='relu') ,\n",
        "          tf.keras.layers.Dense(hidden_layer_size,activation='relu') ,\n",
        "          tf.keras.layers.Dense(hidden_layer_size,activation='relu') ,\n",
        "          tf.keras.layers.Dense(output_size,activation='softmax')\n",
        "                          ])"
      ],
      "execution_count": 56,
      "outputs": []
    },
    {
      "cell_type": "markdown",
      "metadata": {
        "id": "faeEQ1kmfFow"
      },
      "source": [
        "Select Loss and Optimizer"
      ]
    },
    {
      "cell_type": "code",
      "metadata": {
        "id": "oumAHLQEfMzv"
      },
      "source": [
        "model.compile(optimizer='Adam',loss='sparse_categorical_crossentropy',metrics=['accuracy']) #applies one-hot encoding"
      ],
      "execution_count": 57,
      "outputs": []
    },
    {
      "cell_type": "markdown",
      "metadata": {
        "id": "YjWlHNuOgPWo"
      },
      "source": [
        "Training the model"
      ]
    },
    {
      "cell_type": "code",
      "metadata": {
        "colab": {
          "base_uri": "https://localhost:8080/"
        },
        "id": "rlno1L99gTGy",
        "outputId": "11c8d6ab-0186-463c-c1e9-3f36f515ce13"
      },
      "source": [
        "num_epochs= 10\n",
        "model.fit(train_data,epochs=num_epochs,validation_data=(validation_inputs,validation_targets),verbose=2)"
      ],
      "execution_count": 58,
      "outputs": [
        {
          "output_type": "stream",
          "text": [
            "Epoch 1/10\n",
            "360/360 - 34s - loss: 0.3385 - accuracy: 0.8987 - val_loss: 0.1846 - val_accuracy: 0.9483\n",
            "Epoch 2/10\n",
            "360/360 - 30s - loss: 0.1372 - accuracy: 0.9637 - val_loss: 0.1112 - val_accuracy: 0.9710\n",
            "Epoch 3/10\n",
            "360/360 - 30s - loss: 0.1064 - accuracy: 0.9724 - val_loss: 0.1000 - val_accuracy: 0.9750\n",
            "Epoch 4/10\n",
            "360/360 - 30s - loss: 0.0863 - accuracy: 0.9781 - val_loss: 0.0845 - val_accuracy: 0.9788\n",
            "Epoch 5/10\n",
            "360/360 - 30s - loss: 0.0766 - accuracy: 0.9805 - val_loss: 0.0997 - val_accuracy: 0.9748\n",
            "Epoch 6/10\n",
            "360/360 - 30s - loss: 0.0677 - accuracy: 0.9838 - val_loss: 0.0707 - val_accuracy: 0.9810\n",
            "Epoch 7/10\n",
            "360/360 - 30s - loss: 0.0664 - accuracy: 0.9844 - val_loss: 0.0842 - val_accuracy: 0.9808\n",
            "Epoch 8/10\n",
            "360/360 - 30s - loss: 0.0591 - accuracy: 0.9859 - val_loss: 0.0606 - val_accuracy: 0.9847\n",
            "Epoch 9/10\n",
            "360/360 - 30s - loss: 0.0419 - accuracy: 0.9894 - val_loss: 0.0534 - val_accuracy: 0.9875\n",
            "Epoch 10/10\n",
            "360/360 - 30s - loss: 0.0512 - accuracy: 0.9880 - val_loss: 0.0575 - val_accuracy: 0.9870\n"
          ],
          "name": "stdout"
        },
        {
          "output_type": "execute_result",
          "data": {
            "text/plain": [
              "<tensorflow.python.keras.callbacks.History at 0x7f4e6a5dc470>"
            ]
          },
          "metadata": {
            "tags": []
          },
          "execution_count": 58
        }
      ]
    },
    {
      "cell_type": "markdown",
      "metadata": {
        "id": "DT7_FEQSmF5S"
      },
      "source": [
        "Testing the model"
      ]
    },
    {
      "cell_type": "code",
      "metadata": {
        "colab": {
          "base_uri": "https://localhost:8080/"
        },
        "id": "t-vQmefOmIBF",
        "outputId": "8e162b21-e388-43ef-88fc-69cd296f1de4"
      },
      "source": [
        "test_loss,test_accuracy= model.evaluate(test_data)\n"
      ],
      "execution_count": 60,
      "outputs": [
        {
          "output_type": "stream",
          "text": [
            "1/1 [==============================] - 0s 2ms/step - loss: 0.1139 - accuracy: 0.9776\n"
          ],
          "name": "stdout"
        }
      ]
    },
    {
      "cell_type": "code",
      "metadata": {
        "id": "RrMYRtvApPCo"
      },
      "source": [
        ""
      ],
      "execution_count": null,
      "outputs": []
    }
  ]
}